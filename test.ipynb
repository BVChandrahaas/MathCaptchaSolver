{
 "cells": [
  {
   "cell_type": "code",
   "execution_count": 1,
   "metadata": {},
   "outputs": [
    {
     "name": "stdout",
     "output_type": "stream",
     "text": [
      "Dependencies loaded successfully.\n"
     ]
    }
   ],
   "source": [
    "from expression_solver import ExpressionEvaluator, step_by_step_solution\n",
    "from captcha_generator import generate_number, generate_operator, generate_expression\n",
    "print(\"Dependencies loaded successfully.\")\n"
   ]
  },
  {
   "cell_type": "code",
   "execution_count": 2,
   "metadata": {},
   "outputs": [
    {
     "name": "stdout",
     "output_type": "stream",
     "text": [
      "Test: generate_number function\n",
      "Easy Level: 8\n",
      "Medium Level: 49\n",
      "Hard Level: 67\n"
     ]
    }
   ],
   "source": [
    "print(\"Test: generate_number function\")\n",
    "print('Easy Level:', generate_number('easy'))\n",
    "print('Medium Level:', generate_number('medium'))\n",
    "print('Hard Level:', generate_number('hard'))\n"
   ]
  },
  {
   "cell_type": "code",
   "execution_count": 3,
   "metadata": {},
   "outputs": [
    {
     "name": "stdout",
     "output_type": "stream",
     "text": [
      "Test: generate_operator function\n",
      "Random Operator: *\n",
      "Random Operator: +\n",
      "Random Operator: /\n",
      "Random Operator: /\n",
      "Random Operator: +\n"
     ]
    }
   ],
   "source": [
    "print(\"Test: generate_operator function\")\n",
    "for _ in range(5):\n",
    "    print('Random Operator:', generate_operator())\n"
   ]
  },
  {
   "cell_type": "code",
   "execution_count": 4,
   "metadata": {},
   "outputs": [
    {
     "name": "stdout",
     "output_type": "stream",
     "text": [
      "Test: generate_expression function\n",
      "Generated Expression: 20 / 50 * 7 - 11\n"
     ]
    }
   ],
   "source": [
    "print(\"Test: generate_expression function\")\n",
    "expression = generate_expression('medium', 3)\n",
    "print('Generated Expression:', expression)\n"
   ]
  },
  {
   "cell_type": "code",
   "execution_count": 5,
   "metadata": {},
   "outputs": [
    {
     "name": "stdout",
     "output_type": "stream",
     "text": [
      "Test: infix_to_postfix function\n",
      "Infix Expression: 3 + 5 * 2 - 8\n",
      "Postfix Conversion: [3.0, 5.0, 2.0, '*', '+', 8.0, '-']\n"
     ]
    }
   ],
   "source": [
    "print(\"Test: infix_to_postfix function\")\n",
    "evaluator = ExpressionEvaluator()\n",
    "expression = \"3 + 5 * 2 - 8\"\n",
    "postfix = evaluator.infix_to_postfix(expression)\n",
    "print('Infix Expression:', expression)\n",
    "print('Postfix Conversion:', postfix)\n"
   ]
  },
  {
   "cell_type": "code",
   "execution_count": 7,
   "metadata": {},
   "outputs": [
    {
     "name": "stdout",
     "output_type": "stream",
     "text": [
      "Test: evaluate_postfix function\n",
      "Postfix Expression: [3.0, 5.0, 2.0, '*', '+', 8.0, '-']\n",
      "Evaluation Result: 5.0\n"
     ]
    }
   ],
   "source": [
    "print(\"Test: evaluate_postfix function\")\n",
    "postfix = [3.0, 5.0, 2.0, '*', '+', 8.0, '-']\n",
    "result = evaluator.evaluate_postfix(postfix)\n",
    "print('Postfix Expression:', postfix)\n",
    "print('Evaluation Result:', result)\n"
   ]
  },
  {
   "cell_type": "code",
   "execution_count": 8,
   "metadata": {},
   "outputs": [
    {
     "name": "stdout",
     "output_type": "stream",
     "text": [
      "Test: step_by_step_solution function\n",
      "Expression: 3 + 5 * 2 - 8\n",
      "Result: 5.0\n",
      "Step-by-Step Solution:\n",
      "5.0 * 2.0 = 10.0\n",
      "3.0 + 10.0 = 13.0\n",
      "13.0 - 8.0 = 5.0\n"
     ]
    }
   ],
   "source": [
    "print(\"Test: step_by_step_solution function\")\n",
    "expression = \"3 + 5 * 2 - 8\"\n",
    "result, steps = step_by_step_solution(expression)\n",
    "print('Expression:', expression)\n",
    "print('Result:', result)\n",
    "print('Step-by-Step Solution:')\n",
    "for step in steps:\n",
    "    print(step)\n"
   ]
  },
  {
   "cell_type": "code",
   "execution_count": null,
   "metadata": {},
   "outputs": [],
   "source": []
  }
 ],
 "metadata": {
  "kernelspec": {
   "display_name": "Python 3",
   "language": "python",
   "name": "python3"
  },
  "language_info": {
   "codemirror_mode": {
    "name": "ipython",
    "version": 3
   },
   "file_extension": ".py",
   "mimetype": "text/x-python",
   "name": "python",
   "nbconvert_exporter": "python",
   "pygments_lexer": "ipython3",
   "version": "3.11.4"
  }
 },
 "nbformat": 4,
 "nbformat_minor": 2
}
